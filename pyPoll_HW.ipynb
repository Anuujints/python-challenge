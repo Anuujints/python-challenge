{
 "cells": [
  {
   "cell_type": "code",
   "execution_count": 2,
   "metadata": {},
   "outputs": [],
   "source": [
    "import pandas as pd\n",
    "import numpy as np"
   ]
  },
  {
   "cell_type": "code",
   "execution_count": 3,
   "metadata": {},
   "outputs": [
    {
     "name": "stdout",
     "output_type": "stream",
     "text": [
      "         Voter ID   County Candidate\n",
      "0        12864552    Marsh      Khan\n",
      "1        17444633    Marsh    Correy\n",
      "2        19330107    Marsh      Khan\n",
      "3        19865775    Queen      Khan\n",
      "4        11927875    Marsh      Khan\n",
      "5        19014606    Marsh        Li\n",
      "6        17775191    Queen    Correy\n",
      "7        14003692    Marsh      Khan\n",
      "8        14255761    Marsh      Khan\n",
      "9        13870173    Marsh    Correy\n",
      "10       16793141    Marsh      Khan\n",
      "11       10591158    Bamoo    Correy\n",
      "12       12344763  Trandee      Khan\n",
      "13       18611011    Marsh      Khan\n",
      "14       17845903    Marsh    Correy\n",
      "15       12621425  Trandee      Khan\n",
      "16       14365844    Marsh    Correy\n",
      "17       13444989    Marsh    Correy\n",
      "18       19204501  Trandee      Khan\n",
      "19       10098063    Queen    Correy\n",
      "20       19843246    Marsh    Correy\n",
      "21       11509120    Marsh    Correy\n",
      "22       13402499    Marsh    Correy\n",
      "23       18138694    Marsh      Khan\n",
      "24       15056703    Marsh      Khan\n",
      "25       12026178    Queen      Khan\n",
      "26       16667390    Marsh      Khan\n",
      "27       12847422    Queen      Khan\n",
      "28       10599242    Marsh      Khan\n",
      "29       18558857    Queen    Correy\n",
      "...           ...      ...       ...\n",
      "3520971  17923362    Marsh      Khan\n",
      "3520972  11357988    Marsh      Khan\n",
      "3520973  13741548    Marsh    Correy\n",
      "3520974  19929693    Marsh      Khan\n",
      "3520975  16441960    Marsh      Khan\n",
      "3520976  19992954    Marsh  O'Tooley\n",
      "3520977  13845046    Marsh      Khan\n",
      "3520978  18550834    Marsh    Correy\n",
      "3520979  17540334    Queen      Khan\n",
      "3520980  11020483    Queen  O'Tooley\n",
      "3520981  15912885  Trandee      Khan\n",
      "3520982  12609301    Marsh      Khan\n",
      "3520983  14774584    Marsh        Li\n",
      "3520984  13283796    Marsh      Khan\n",
      "3520985  13359648    Bamoo      Khan\n",
      "3520986  17391173    Queen    Correy\n",
      "3520987  18995053    Queen      Khan\n",
      "3520988  11867516    Bamoo        Li\n",
      "3520989  18589143    Marsh      Khan\n",
      "3520990  12282098    Marsh      Khan\n",
      "3520991  16950418    Marsh    Correy\n",
      "3520992  13715415    Marsh      Khan\n",
      "3520993  18129849    Marsh      Khan\n",
      "3520994  15785886    Marsh    Correy\n",
      "3520995  12890090    Marsh    Correy\n",
      "3520996  18050509    Marsh      Khan\n",
      "3520997  13060332    Marsh      Khan\n",
      "3520998  16754708    Queen      Khan\n",
      "3520999  12083146    Queen      Khan\n",
      "3521000  14526187    Queen  O'Tooley\n",
      "\n",
      "[3521001 rows x 3 columns]\n"
     ]
    }
   ],
   "source": [
    "#Importing file path into Pandas\n",
    "\n",
    "file = \"election_data.csv\"\n",
    "dfs = pd.read_csv(file)\n",
    "print(dfs)"
   ]
  },
  {
   "cell_type": "code",
   "execution_count": 4,
   "metadata": {},
   "outputs": [
    {
     "name": "stdout",
     "output_type": "stream",
     "text": [
      "Total Votes 3521001\n"
     ]
    }
   ],
   "source": [
    "#The total number of votes cast\n",
    "totalVotes = len(dfs)\n",
    "print(\"Total Votes\", totalVotes)\n"
   ]
  },
  {
   "cell_type": "code",
   "execution_count": 10,
   "metadata": {},
   "outputs": [
    {
     "data": {
      "text/plain": [
       "0              Khan\n",
       "1            Correy\n",
       "2              Khan\n",
       "3              Khan\n",
       "4              Khan\n",
       "5                Li\n",
       "6            Correy\n",
       "7              Khan\n",
       "8              Khan\n",
       "9            Correy\n",
       "10             Khan\n",
       "11           Correy\n",
       "12             Khan\n",
       "13             Khan\n",
       "14           Correy\n",
       "15             Khan\n",
       "16           Correy\n",
       "17           Correy\n",
       "18             Khan\n",
       "19           Correy\n",
       "20           Correy\n",
       "21           Correy\n",
       "22           Correy\n",
       "23             Khan\n",
       "24             Khan\n",
       "25             Khan\n",
       "26             Khan\n",
       "27             Khan\n",
       "28             Khan\n",
       "29           Correy\n",
       "             ...   \n",
       "3520971        Khan\n",
       "3520972        Khan\n",
       "3520973      Correy\n",
       "3520974        Khan\n",
       "3520975        Khan\n",
       "3520976    O'Tooley\n",
       "3520977        Khan\n",
       "3520978      Correy\n",
       "3520979        Khan\n",
       "3520980    O'Tooley\n",
       "3520981        Khan\n",
       "3520982        Khan\n",
       "3520983          Li\n",
       "3520984        Khan\n",
       "3520985        Khan\n",
       "3520986      Correy\n",
       "3520987        Khan\n",
       "3520988          Li\n",
       "3520989        Khan\n",
       "3520990        Khan\n",
       "3520991      Correy\n",
       "3520992        Khan\n",
       "3520993        Khan\n",
       "3520994      Correy\n",
       "3520995      Correy\n",
       "3520996        Khan\n",
       "3520997        Khan\n",
       "3520998        Khan\n",
       "3520999        Khan\n",
       "3521000    O'Tooley\n",
       "Name: Candidate, Length: 3521001, dtype: object"
      ]
     },
     "execution_count": 10,
     "metadata": {},
     "output_type": "execute_result"
    }
   ],
   "source": [
    "#A complete list of candidates who received votes\n",
    "dfs['Candidate']"
   ]
  },
  {
   "cell_type": "code",
   "execution_count": 40,
   "metadata": {},
   "outputs": [
    {
     "data": {
      "text/plain": [
       "Khan        2218231\n",
       "Correy       704200\n",
       "Li           492940\n",
       "O'Tooley     105630\n",
       "Name: Candidate, dtype: int64"
      ]
     },
     "execution_count": 40,
     "metadata": {},
     "output_type": "execute_result"
    }
   ],
   "source": [
    "#The total number of votes each candidate won\n",
    "tl=dfs[\"Candidate\"].value_counts()\n",
    "tl\n"
   ]
  },
  {
   "cell_type": "code",
   "execution_count": 57,
   "metadata": {},
   "outputs": [
    {
     "data": {
      "text/plain": [
       "Khan        63.0\n",
       "Correy      20.0\n",
       "Li          14.0\n",
       "O'Tooley     3.0\n",
       "Name: Candidate, dtype: float64"
      ]
     },
     "execution_count": 57,
     "metadata": {},
     "output_type": "execute_result"
    }
   ],
   "source": [
    "#The percentage of votes each candidate won\n",
    "ptc=round((tl / totalVotes)*100,2)\n",
    "ptc"
   ]
  },
  {
   "cell_type": "code",
   "execution_count": 58,
   "metadata": {},
   "outputs": [
    {
     "name": "stdout",
     "output_type": "stream",
     "text": [
      "Winner: Khan\n"
     ]
    }
   ],
   "source": [
    "#The winner of the election based on popular vote.\n",
    "print(\"Winner:\", \"Khan\")\n"
   ]
  },
  {
   "cell_type": "code",
   "execution_count": 60,
   "metadata": {},
   "outputs": [
    {
     "data": {
      "text/html": [
       "<div>\n",
       "<style scoped>\n",
       "    .dataframe tbody tr th:only-of-type {\n",
       "        vertical-align: middle;\n",
       "    }\n",
       "\n",
       "    .dataframe tbody tr th {\n",
       "        vertical-align: top;\n",
       "    }\n",
       "\n",
       "    .dataframe thead th {\n",
       "        text-align: right;\n",
       "    }\n",
       "</style>\n",
       "<table border=\"1\" class=\"dataframe\">\n",
       "  <thead>\n",
       "    <tr style=\"text-align: right;\">\n",
       "      <th></th>\n",
       "      <th>Candidate</th>\n",
       "      <th>Candidate</th>\n",
       "    </tr>\n",
       "  </thead>\n",
       "  <tbody>\n",
       "    <tr>\n",
       "      <th>Khan</th>\n",
       "      <td>2218231</td>\n",
       "      <td>63.0</td>\n",
       "    </tr>\n",
       "    <tr>\n",
       "      <th>Correy</th>\n",
       "      <td>704200</td>\n",
       "      <td>20.0</td>\n",
       "    </tr>\n",
       "    <tr>\n",
       "      <th>Li</th>\n",
       "      <td>492940</td>\n",
       "      <td>14.0</td>\n",
       "    </tr>\n",
       "    <tr>\n",
       "      <th>O'Tooley</th>\n",
       "      <td>105630</td>\n",
       "      <td>3.0</td>\n",
       "    </tr>\n",
       "  </tbody>\n",
       "</table>\n",
       "</div>"
      ],
      "text/plain": [
       "          Candidate  Candidate\n",
       "Khan        2218231       63.0\n",
       "Correy       704200       20.0\n",
       "Li           492940       14.0\n",
       "O'Tooley     105630        3.0"
      ]
     },
     "execution_count": 60,
     "metadata": {},
     "output_type": "execute_result"
    }
   ],
   "source": [
    "df_new = pd.concat([tl, ptc], axis=1)\n",
    "df_new"
   ]
  },
  {
   "cell_type": "code",
   "execution_count": 61,
   "metadata": {},
   "outputs": [
    {
     "name": "stdout",
     "output_type": "stream",
     "text": [
      "Election Results\n",
      "-----------------\n",
      "Total Votes: 3521001\n",
      "-----------------\n",
      "          Candidate  Candidate\n",
      "Khan        2218231       63.0\n",
      "Correy       704200       20.0\n",
      "Li           492940       14.0\n",
      "O'Tooley     105630        3.0\n",
      "-----------------\n",
      "Winner: Khan\n"
     ]
    }
   ],
   "source": [
    "print('Election Results')\n",
    "print('-----------------')\n",
    "print(\"Total Votes:\", totalVotes)\n",
    "print('-----------------')\n",
    "print(df_new)\n",
    "print('-----------------')\n",
    "print(\"Winner:\", \"Khan\")\n",
    "\n"
   ]
  },
  {
   "cell_type": "code",
   "execution_count": null,
   "metadata": {},
   "outputs": [],
   "source": []
  },
  {
   "cell_type": "code",
   "execution_count": null,
   "metadata": {},
   "outputs": [],
   "source": []
  }
 ],
 "metadata": {
  "kernelspec": {
   "display_name": "Python 3",
   "language": "python",
   "name": "python3"
  },
  "language_info": {
   "codemirror_mode": {
    "name": "ipython",
    "version": 3
   },
   "file_extension": ".py",
   "mimetype": "text/x-python",
   "name": "python",
   "nbconvert_exporter": "python",
   "pygments_lexer": "ipython3",
   "version": "3.7.1"
  }
 },
 "nbformat": 4,
 "nbformat_minor": 2
}
