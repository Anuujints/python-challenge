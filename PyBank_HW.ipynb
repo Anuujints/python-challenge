{
 "cells": [
  {
   "cell_type": "code",
   "execution_count": 1,
   "metadata": {},
   "outputs": [],
   "source": [
    "import pandas as pd\n",
    "import numpy as np"
   ]
  },
  {
   "cell_type": "code",
   "execution_count": 2,
   "metadata": {},
   "outputs": [
    {
     "name": "stdout",
     "output_type": "stream",
     "text": [
      "        Date  Profit/Losses\n",
      "0   Jan-2010         867884\n",
      "1   Feb-2010         984655\n",
      "2   Mar-2010         322013\n",
      "3   Apr-2010         -69417\n",
      "4   May-2010         310503\n",
      "5   Jun-2010         522857\n",
      "6   Jul-2010        1033096\n",
      "7   Aug-2010         604885\n",
      "8   Sep-2010        -216386\n",
      "9   Oct-2010         477532\n",
      "10  Nov-2010         893810\n",
      "11  Dec-2010         -80353\n",
      "12  Jan-2011         779806\n",
      "13  Feb-2011        -335203\n",
      "14  Mar-2011         697845\n",
      "15  Apr-2011         793163\n",
      "16  May-2011         485070\n",
      "17  Jun-2011         584122\n",
      "18  Jul-2011          62729\n",
      "19  Aug-2011         668179\n",
      "20  Sep-2011         899906\n",
      "21  Oct-2011         834719\n",
      "22  Nov-2011         132003\n",
      "23  Dec-2011         309978\n",
      "24  Jan-2012        -755566\n",
      "25  Feb-2012        1170593\n",
      "26  Mar-2012         252788\n",
      "27  Apr-2012        1151518\n",
      "28  May-2012         817256\n",
      "29  Jun-2012         570757\n",
      "..       ...            ...\n",
      "56  Sep-2014        1166643\n",
      "57  Oct-2014         947333\n",
      "58  Nov-2014         578668\n",
      "59  Dec-2014         988505\n",
      "60  Jan-2015        1139715\n",
      "61  Feb-2015        1029471\n",
      "62  Mar-2015         687533\n",
      "63  Apr-2015        -524626\n",
      "64  May-2015         158620\n",
      "65  Jun-2015          87795\n",
      "66  Jul-2015         423389\n",
      "67  Aug-2015         840723\n",
      "68  Sep-2015         568529\n",
      "69  Oct-2015         332067\n",
      "70  Nov-2015         989499\n",
      "71  Dec-2015         778237\n",
      "72  Jan-2016         650000\n",
      "73  Feb-2016       -1100387\n",
      "74  Mar-2016        -174946\n",
      "75  Apr-2016         757143\n",
      "76  May-2016         445709\n",
      "77  Jun-2016         712961\n",
      "78  Jul-2016       -1163797\n",
      "79  Aug-2016         569899\n",
      "80  Sep-2016         768450\n",
      "81  Oct-2016         102685\n",
      "82  Nov-2016         795914\n",
      "83  Dec-2016          60988\n",
      "84  Jan-2017         138230\n",
      "85  Feb-2017         671099\n",
      "\n",
      "[86 rows x 2 columns]\n"
     ]
    }
   ],
   "source": [
    "file = \"budget_data.csv\"\n",
    "df = pd.read_csv(file)\n",
    "print(df)"
   ]
  },
  {
   "cell_type": "code",
   "execution_count": 3,
   "metadata": {},
   "outputs": [
    {
     "name": "stdout",
     "output_type": "stream",
     "text": [
      "Total Months 86\n"
     ]
    }
   ],
   "source": [
    "#Total number of months\n",
    "totalMonths = len(df)\n",
    "print(\"Total Months\", totalMonths)\n"
   ]
  },
  {
   "cell_type": "code",
   "execution_count": 4,
   "metadata": {},
   "outputs": [
    {
     "name": "stdout",
     "output_type": "stream",
     "text": [
      "$ 38382578\n"
     ]
    }
   ],
   "source": [
    "#The net total amount of \"Profit/Losses\" over the entire period\n",
    "Total = df['Profit/Losses'].sum()\n",
    "print(\"$\",Total)\n"
   ]
  },
  {
   "cell_type": "code",
   "execution_count": 5,
   "metadata": {},
   "outputs": [
    {
     "data": {
      "text/plain": [
       "Profit/Losses    446309.046512\n",
       "dtype: float64"
      ]
     },
     "execution_count": 5,
     "metadata": {},
     "output_type": "execute_result"
    }
   ],
   "source": [
    "#The average of the changes in \"Profit/Losses\" over the entire period\n",
    "avg=df.mean()\n",
    "avg"
   ]
  },
  {
   "cell_type": "code",
   "execution_count": 7,
   "metadata": {},
   "outputs": [
    {
     "name": "stdout",
     "output_type": "stream",
     "text": [
      "Greatest Increase in Profits: Date             Sep-2016\n",
      "Profit/Losses     1170593\n",
      "dtype: object\n"
     ]
    }
   ],
   "source": [
    "#The greatest increase in profits (date and amount) over the entire period\n",
    "gr=df.max()\n",
    "print(\"Greatest Increase in Profits:\",gr)\n"
   ]
  },
  {
   "cell_type": "code",
   "execution_count": 14,
   "metadata": {},
   "outputs": [
    {
     "name": "stdout",
     "output_type": "stream",
     "text": [
      "Greatest Decrease in Profits: Date             Apr-2010\n",
      "Profit/Losses    -1196225\n",
      "dtype: object\n"
     ]
    }
   ],
   "source": [
    "gr_d=df.min()\n",
    "print(\"Greatest Decrease in Profits:\", gr_d)\n",
    "\n"
   ]
  },
  {
   "cell_type": "code",
   "execution_count": 19,
   "metadata": {},
   "outputs": [
    {
     "name": "stdout",
     "output_type": "stream",
     "text": [
      "Financial Analyses\n",
      "-----------------\n",
      "Total Months: 86\n",
      "Total: $ 38382578\n",
      "Average Change: Profit/Losses    446309.046512\n",
      "dtype: float64\n",
      "Greatest Increase in Profits:\n",
      "Date             Sep-2016\n",
      "Profit/Losses     1170593\n",
      "dtype: object\n",
      "Greatest Decrease in Profits:\n",
      "Date             Apr-2010\n",
      "Profit/Losses    -1196225\n",
      "dtype: object\n"
     ]
    }
   ],
   "source": [
    "print('Financial Analyses')\n",
    "print('-----------------')\n",
    "print(\"Total Months:\", totalMonths)\n",
    "print(\"Total: $\",Total)\n",
    "print(\"Average Change:\", avg)\n",
    "print('Greatest Increase in Profits:')\n",
    "print(gr)\n",
    "print(\"Greatest Decrease in Profits:\")\n",
    "print(gr_d)\n",
    "\n",
    "\n",
    "\n"
   ]
  },
  {
   "cell_type": "code",
   "execution_count": null,
   "metadata": {},
   "outputs": [],
   "source": []
  }
 ],
 "metadata": {
  "kernelspec": {
   "display_name": "Python 3",
   "language": "python",
   "name": "python3"
  },
  "language_info": {
   "codemirror_mode": {
    "name": "ipython",
    "version": 3
   },
   "file_extension": ".py",
   "mimetype": "text/x-python",
   "name": "python",
   "nbconvert_exporter": "python",
   "pygments_lexer": "ipython3",
   "version": "3.7.1"
  }
 },
 "nbformat": 4,
 "nbformat_minor": 2
}
